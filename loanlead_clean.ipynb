{
 "cells": [
  {
   "cell_type": "code",
   "execution_count": 3,
   "metadata": {},
   "outputs": [],
   "source": [
    "def lead_counter(filepath):\n",
    "    import pandas as pd\n",
    "    df=pd.read_csv(filepath,low_memory=False)\n",
    "    \n",
    "    #Counselling Lead == 'Yes'\n",
    "    csly_df=df.loc[df['Counselling Lead']=='Yes']\n",
    "    \n",
    "    #retrieve Loan Lead =['No','NaN']\n",
    "    loan_lead=csly_df.loc[csly_df['Loan Lead']!='Yes']\n",
    "    #retrieve BA Lead =['No','NaN']\n",
    "    ba_lead=loan_lead.loc[loan_lead['BA Lead']!='Yes']\n",
    "    \n",
    "    #create dataframe storing Lead Source Counts\n",
    "    count_df=ba_lead['Lead Source'].value_counts(dropna=False).rename_axis(\"Lead Source\").reset_index(name='Counts')\n",
    "    \n",
    "    #exporting Datasets into CSV formats\n",
    "    count_df.to_csv('count_all_leads.csv',index=False)\n",
    "    ba_lead.to_csv('all_lead_2021.csv',index=False)    \n",
    "    "
   ]
  },
  {
   "cell_type": "code",
   "execution_count": 4,
   "metadata": {},
   "outputs": [],
   "source": [
    "lead_counter('total_leads.csv')"
   ]
  },
  {
   "cell_type": "code",
   "execution_count": null,
   "metadata": {},
   "outputs": [],
   "source": []
  }
 ],
 "metadata": {
  "kernelspec": {
   "display_name": "Python 3",
   "language": "python",
   "name": "python3"
  },
  "language_info": {
   "codemirror_mode": {
    "name": "ipython",
    "version": 3
   },
   "file_extension": ".py",
   "mimetype": "text/x-python",
   "name": "python",
   "nbconvert_exporter": "python",
   "pygments_lexer": "ipython3",
   "version": "3.8.5"
  }
 },
 "nbformat": 4,
 "nbformat_minor": 4
}
